# libraries 
import pandas as pd  # For data manipulation and analysis
import numpy as np  # For numerical operations
from sklearn.model_selection import train_test_split  # For splitting data into training and testing sets
from sklearn.feature_extraction.text import TfidfVectorizer  # For converting text to TF-IDF features
from sklearn.naive_bayes import MultinomialNB  # Naive Bayes classifier for text classification
from sklearn.metrics import classification_report, accuracy_score  # For evaluating model performance
from sklearn.linear_model import LogisticRegression  # Logistic Regression classifier
import nltk  # Natural Language Toolkit for text processing
from nltk.corpus import stopwords  # For removing common stop words
from nltk.stem import WordNetLemmatizer  # For lemmatizing words
import re  # For regular expressions

# NLTK data files
nltk.download('stopwords')
nltk.download('wordnet')

# dataset
movie = pd.read_csv('imdb_reviews.csv')  # Load the IMDB reviews dataset
print(movie.head(10))  # Display the first 10 rows of the dataset

# Function to preprocess text
def preprocess_text(text):
    # Remove HTML tags
    text = re.sub(r'<.*?>', '', text)
    # Remove special characters and numbers
    text = re.sub(r'[^a-zA-Z\s]', '', text)
    # Convert to lowercase
    text = text.lower()
    # Tokenize
    words = text.split()
    # Remove stopwords
    stop_words = set(stopwords.words('english'))
    words = [word for word in words if word not in stop_words]
    # Lemmatization
    lemmatizer = WordNetLemmatizer()
    words = [lemmatizer.lemmatize(word) for word in words]
    return ' '.join(words)

data = movie
data['cleaned_review'] = data['review'].apply(preprocess_text)  
pd.set_option('display.max_colwidth', None)
print(data['cleaned_review'])  

# Split the data into features and labels
X = data['cleaned_review']  # Features
y = data['sentiment']  # Labels
X_train, X_test, y_train, y_test = train_test_split(X, y, test_size=0.2, random_state=42) 

# text data to TF-IDF features
tfidf_vectorizer = TfidfVectorizer(max_features=10000)  
X_train_tfidf = tfidf_vectorizer.fit_transform(X_train)  
X_test_tfidf = tfidf_vectorizer.transform(X_test) 

#Multinomial Naive Bayes model
model = MultinomialNB()  # Initialize the model
model.fit(X_train_tfidf, y_train)  

# predictions and evaluation of model
y_pred = model.predict(X_test_tfidf)  # Predict on the test set
print("Accuracy:", accuracy_score(y_test, y_pred)) 
print(classification_report(y_test, y_pred)) 

# Function to predict sentiment 
def predict_sentiment(review):
    cleaned_review = preprocess_text(review) 
    review_tfidf = tfidf_vectorizer.transform([cleaned_review])  
    prediction = model.predict(review_tfidf)  
    return "Positive" if prediction[0] == 1 else "Negative" 

# sentiment prediction function
new_review = "I absolutely loved this movie! It was fantastic."
result = predict_sentiment(new_review) 
print(result)  # Print the result
